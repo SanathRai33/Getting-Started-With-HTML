{
  "nbformat": 4,
  "nbformat_minor": 0,
  "metadata": {
    "colab": {
      "provenance": []
    },
    "kernelspec": {
      "name": "python3",
      "display_name": "Python 3"
    },
    "language_info": {
      "name": "python"
    }
  },
  "cells": [
    {
      "cell_type": "markdown",
      "source": [
        "# Getting Started With HTML"
      ],
      "metadata": {
        "id": "QQ1NQq5C1XUf"
      }
    },
    {
      "cell_type": "markdown",
      "source": [
        "1. Write a simple program in HTML  that displays the heading \"HTML defines the content and structure of your website” on the web browser ?\n",
        "  \n",
        "  --> ans\n",
        "\n",
        "\n",
        "      <!DOCTYPE html>\n",
        "      <html lang=\"en\">\n",
        "      <head>\n",
        "        <meta charset=\"UTF-8\">\n",
        "        <meta name=\"viewport\" content=\"width=device-width, initial-scale=1.0\">\n",
        "        <title>HTML Heading</title>\n",
        "      </head>\n",
        "      <body>\n",
        "        <h1>HTML defines the content and structure of your website</h1>\n",
        "      </body>\n",
        "      </html>\n",
        "\n",
        "\n",
        "2. Explain the purpose of comments in HTML and provide an example of how to use comments in an HTML document?\n",
        "  \n",
        "  --> ans\n",
        "      * Comments are used to add notes or explanations in the code without affecting the webpage.\n",
        "      * Browsers ignore comments, meaning they do not appear on the webpage.\n",
        "\n",
        "\n",
        "      <!DOCTYPE html>\n",
        "      <html lang=\"en\">\n",
        "      <head>\n",
        "        <meta charset=\"UTF-8\">\n",
        "        <meta name=\"viewport\" content=\"width=device-width, initial-scale=1.0\">\n",
        "        <title>HTML Comments</title>\n",
        "      </head>\n",
        "      <body>\n",
        "        <!-- This is a heading -->\n",
        "        <h1>Welcome to Website</h1>\n",
        "      </body>\n",
        "      </html>\n",
        "\n",
        "\n",
        "3. Write an HTML program that includes a heading, a paragraph of text, a horizontal line, and a line break.Arrange these elements to create a simple web page layout?\n",
        "\n",
        "  --> ans\n",
        "      \n",
        "\n",
        "      <!DOCTYPE html>\n",
        "      <html lang=\"en\">\n",
        "      <head>\n",
        "        <meta charset=\"UTF-8\">\n",
        "        <meta name=\"viewport\" content=\"width=device-width, initial-scale=1.0\">\n",
        "        <title>Simple Web Page Layout</title>\n",
        "      </head>\n",
        "      <body>\n",
        "        <h1>Welcome to My Web Page</h1>\n",
        "        \n",
        "        <p>This is a simple paragraph describing the content of the page.</p>\n",
        "        \n",
        "        <hr> <!-- Horizontal line -->\n",
        "\n",
        "        <p>This is another paragraph.<br>Here is a line break in between.</p>\n",
        "      </body>\n",
        "      </html>\n",
        "\n",
        "\n",
        "4. Write a short note on Tag and element with an example$?\n",
        "  \n",
        "  --> ans\n",
        "      \n",
        "\n",
        "      <!DOCTYPE html>\n",
        "      <html lang=\"en\">\n",
        "      <head>\n",
        "        <meta charset=\"UTF-8\">\n",
        "        <meta name=\"viewport\" content=\"width=device-width, initial-scale=1.0\">\n",
        "        <title>Simple Web Page Layout</title>\n",
        "      </head>\n",
        "      <body>\n",
        "        <p>Tag: A tag is a part of an HTML element that tells the browser how to display content. It is enclosed in angle brackets (<>).\n",
        "        </p>\n",
        "    \n",
        "        <p>Element: An element consists of an opening tag, content, and a closing tag</p>\n",
        "\n",
        "      </body>\n",
        "      </html>\n",
        "\n",
        "\n",
        "5. What is the DOCTYPE Declaration in HTML?\n",
        "  \n",
        "  --> ans\n",
        "\n",
        "\n",
        "  The DOCTYPE declaration is used to specify the version of HTML being used in a document. It must be placed at the beginning of an HTML file.\n",
        "  \n",
        "     * <!DOCTYPE html> tells the browser to use HTML5.\n",
        "     * It ensures that the page is displayed correctly according to modern web standards."
      ],
      "metadata": {
        "id": "-tk4X7O314ra"
      }
    },
    {
      "cell_type": "code",
      "source": [],
      "metadata": {
        "id": "s4rtxI1S11g8"
      },
      "execution_count": null,
      "outputs": []
    }
  ]
}